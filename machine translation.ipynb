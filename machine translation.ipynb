{
 "cells": [
  {
   "cell_type": "code",
   "execution_count": null,
   "metadata": {
    "colab": {
     "base_uri": "https://localhost:8080/",
     "height": 102
    },
    "colab_type": "code",
    "executionInfo": {
     "elapsed": 783,
     "status": "ok",
     "timestamp": 1582606463897,
     "user": {
      "displayName": "X D",
      "photoUrl": "https://lh3.googleusercontent.com/a-/AAuE7mA_Bmz1Xaq-K9EfpEBRJw2E69bWRnVUQpXWaXar=s64",
      "userId": "03706278554104671499"
     },
     "user_tz": 360
    },
    "id": "En0j_FGozZQw",
    "outputId": "b08a750e-d1a7-4177-b528-aa75ed853f27"
   },
   "outputs": [],
   "source": [
    "import numpy as np\n",
    "import collections\n",
    "import matplotlib.pyplot as plt\n",
    "import tensorflow as tf\n",
    "%tensorflow_version 1.4\n",
    "import pandas as pd\n",
    "%matplotlib inline"
   ]
  },
  {
   "cell_type": "code",
   "execution_count": null,
   "metadata": {
    "colab": {
     "base_uri": "https://localhost:8080/",
     "height": 34
    },
    "colab_type": "code",
    "executionInfo": {
     "elapsed": 771,
     "status": "ok",
     "timestamp": 1582606463898,
     "user": {
      "displayName": "X D",
      "photoUrl": "https://lh3.googleusercontent.com/a-/AAuE7mA_Bmz1Xaq-K9EfpEBRJw2E69bWRnVUQpXWaXar=s64",
      "userId": "03706278554104671499"
     },
     "user_tz": 360
    },
    "id": "L0iijraEC-Bp",
    "outputId": "ef268462-55d8-4d33-cd48-3a1c482cc539"
   },
   "outputs": [],
   "source": [
    "print(tf.__version__)"
   ]
  },
  {
   "cell_type": "code",
   "execution_count": null,
   "metadata": {
    "colab": {
     "base_uri": "https://localhost:8080/",
     "height": 275
    },
    "colab_type": "code",
    "executionInfo": {
     "elapsed": 6097,
     "status": "ok",
     "timestamp": 1582606469236,
     "user": {
      "displayName": "X D",
      "photoUrl": "https://lh3.googleusercontent.com/a-/AAuE7mA_Bmz1Xaq-K9EfpEBRJw2E69bWRnVUQpXWaXar=s64",
      "userId": "03706278554104671499"
     },
     "user_tz": 360
    },
    "id": "wFPGIMnCrnJf",
    "outputId": "c9b95514-6006-4b58-9796-3b8e61647162"
   },
   "outputs": [],
   "source": [
    "!pip install PyDrive"
   ]
  },
  {
   "cell_type": "code",
   "execution_count": null,
   "metadata": {
    "colab": {},
    "colab_type": "code",
    "id": "aT7pUnwDUhYd"
   },
   "outputs": [],
   "source": [
    "from pydrive.auth import GoogleAuth\n",
    "from pydrive.drive import GoogleDrive\n",
    "from google.colab import auth\n",
    "from oauth2client.client import GoogleCredentials\n"
   ]
  },
  {
   "cell_type": "code",
   "execution_count": null,
   "metadata": {
    "colab": {},
    "colab_type": "code",
    "id": "KwbXaeJxUju6"
   },
   "outputs": [],
   "source": [
    "auth.authenticate_user()\n",
    "gauth = GoogleAuth()\n",
    "gauth.credentials = GoogleCredentials.get_application_default()\n",
    "drive = GoogleDrive(gauth)"
   ]
  },
  {
   "cell_type": "code",
   "execution_count": null,
   "metadata": {
    "colab": {
     "base_uri": "https://localhost:8080/",
     "height": 324
    },
    "colab_type": "code",
    "executionInfo": {
     "elapsed": 3125,
     "status": "error",
     "timestamp": 1582606492083,
     "user": {
      "displayName": "X D",
      "photoUrl": "https://lh3.googleusercontent.com/a-/AAuE7mA_Bmz1Xaq-K9EfpEBRJw2E69bWRnVUQpXWaXar=s64",
      "userId": "03706278554104671499"
     },
     "user_tz": 360
    },
    "id": "bFLvWb8PU0f-",
    "outputId": "e9e34c5d-a276-4bf7-ddc4-5d849611ceb7"
   },
   "outputs": [],
   "source": [
    "downloaded = drive.CreateFile({'id':\"1kamomgHvR4iSlfCfUoCmb32v0KBGuGyB\"})\n",
    "downloaded.GetContentFile('segmented_train_seg_by_word.txt')  "
   ]
  },
  {
   "cell_type": "code",
   "execution_count": null,
   "metadata": {
    "colab": {
     "base_uri": "https://localhost:8080/",
     "height": 34
    },
    "colab_type": "code",
    "executionInfo": {
     "elapsed": 667,
     "status": "ok",
     "timestamp": 1582606496791,
     "user": {
      "displayName": "X D",
      "photoUrl": "https://lh3.googleusercontent.com/a-/AAuE7mA_Bmz1Xaq-K9EfpEBRJw2E69bWRnVUQpXWaXar=s64",
      "userId": "03706278554104671499"
     },
     "user_tz": 360
    },
    "id": "4Yir4O_h7GuL",
    "outputId": "e3b4abb4-7895-44d1-e8a0-3d02f6ea45f8"
   },
   "outputs": [],
   "source": [
    "tf.test.gpu_device_name()"
   ]
  },
  {
   "cell_type": "code",
   "execution_count": null,
   "metadata": {
    "colab": {
     "base_uri": "https://localhost:8080/",
     "height": 34
    },
    "colab_type": "code",
    "executionInfo": {
     "elapsed": 2638,
     "status": "ok",
     "timestamp": 1582606498770,
     "user": {
      "displayName": "X D",
      "photoUrl": "https://lh3.googleusercontent.com/a-/AAuE7mA_Bmz1Xaq-K9EfpEBRJw2E69bWRnVUQpXWaXar=s64",
      "userId": "03706278554104671499"
     },
     "user_tz": 360
    },
    "id": "a4Qz_7ji7RNk",
    "outputId": "40cabd14-99e9-4c0e-c041-e9985697bb9e"
   },
   "outputs": [],
   "source": [
    "!/opt/bin/nvidia-smi"
   ]
  },
  {
   "cell_type": "code",
   "execution_count": null,
   "metadata": {
    "colab": {
     "base_uri": "https://localhost:8080/",
     "height": 221
    },
    "colab_type": "code",
    "executionInfo": {
     "elapsed": 2628,
     "status": "ok",
     "timestamp": 1582606498770,
     "user": {
      "displayName": "X D",
      "photoUrl": "https://lh3.googleusercontent.com/a-/AAuE7mA_Bmz1Xaq-K9EfpEBRJw2E69bWRnVUQpXWaXar=s64",
      "userId": "03706278554104671499"
     },
     "user_tz": 360
    },
    "id": "5Uabu6sT7XOV",
    "outputId": "448a4d0c-9b29-4146-80bd-f5b7cfdfca3b"
   },
   "outputs": [],
   "source": [
    "from tensorflow.python.client import device_lib\n",
    "device_lib.list_local_devices()"
   ]
  },
  {
   "cell_type": "code",
   "execution_count": null,
   "metadata": {
    "colab": {},
    "colab_type": "code",
    "id": "XhWSkgIY0HC8"
   },
   "outputs": [],
   "source": [
    "enline = None\n",
    "chline = None\n",
    "\n",
    "sentlength = 10\n",
    "\n",
    "enlines = []\n",
    "chlines = []\n",
    "num = 0\n",
    "\n",
    "with open(\"/content/segmented_train_seg_by_word.txt\") as hfd1:\n",
    "  for line in hfd1:\n",
    "    num += 1\n",
    "    if num % 2 == 1:\n",
    "      enline = line\n",
    "      continue\n",
    "    else:\n",
    "      chline = line\n",
    "    \n",
    "    enlinesp = [i.lower() for i in enline.strip(\"\\n\").split()]\n",
    "    chlinesp = [i for i in chline.strip(\"\\n\").split()]\n",
    "    \n",
    "    if len(enlinesp) <= sentlength and len(chlinesp) <= sentlength:\n",
    "      enlines.append(enlinesp)\n",
    "      chlines.append(chlinesp)"
   ]
  },
  {
   "cell_type": "code",
   "execution_count": null,
   "metadata": {
    "colab": {
     "base_uri": "https://localhost:8080/",
     "height": 34
    },
    "colab_type": "code",
    "executionInfo": {
     "elapsed": 103757,
     "status": "ok",
     "timestamp": 1582606599917,
     "user": {
      "displayName": "X D",
      "photoUrl": "https://lh3.googleusercontent.com/a-/AAuE7mA_Bmz1Xaq-K9EfpEBRJw2E69bWRnVUQpXWaXar=s64",
      "userId": "03706278554104671499"
     },
     "user_tz": 360
    },
    "id": "fU0KMLTb0B_J",
    "outputId": "39beb581-6dcf-48ea-aa93-50b6e88975b1"
   },
   "outputs": [],
   "source": [
    "len(enlines), len(chlines)"
   ]
  },
  {
   "cell_type": "code",
   "execution_count": null,
   "metadata": {
    "colab": {
     "base_uri": "https://localhost:8080/",
     "height": 187
    },
    "colab_type": "code",
    "executionInfo": {
     "elapsed": 103751,
     "status": "ok",
     "timestamp": 1582606599918,
     "user": {
      "displayName": "X D",
      "photoUrl": "https://lh3.googleusercontent.com/a-/AAuE7mA_Bmz1Xaq-K9EfpEBRJw2E69bWRnVUQpXWaXar=s64",
      "userId": "03706278554104671499"
     },
     "user_tz": 360
    },
    "id": "Q86CpCVA3-Ya",
    "outputId": "c6275602-62ca-40d1-a12e-1578d349bdf6"
   },
   "outputs": [],
   "source": [
    "enlines[:10]"
   ]
  },
  {
   "cell_type": "code",
   "execution_count": null,
   "metadata": {
    "colab": {
     "base_uri": "https://localhost:8080/",
     "height": 187
    },
    "colab_type": "code",
    "executionInfo": {
     "elapsed": 103744,
     "status": "ok",
     "timestamp": 1582606599918,
     "user": {
      "displayName": "X D",
      "photoUrl": "https://lh3.googleusercontent.com/a-/AAuE7mA_Bmz1Xaq-K9EfpEBRJw2E69bWRnVUQpXWaXar=s64",
      "userId": "03706278554104671499"
     },
     "user_tz": 360
    },
    "id": "sxMkge7W4DMS",
    "outputId": "b7325b3b-5b2f-4689-a13a-621806a2f21b"
   },
   "outputs": [],
   "source": [
    "chlines[:10]"
   ]
  },
  {
   "cell_type": "code",
   "execution_count": null,
   "metadata": {
    "colab": {},
    "colab_type": "code",
    "id": "rrk4bEat4FNX"
   },
   "outputs": [],
   "source": [
    "enwords = []\n",
    "chwords = []\n",
    "for sent in chlines:\n",
    "  for word in sent:\n",
    "    chwords.append(word)\n",
    "\n",
    "for sent in enlines:\n",
    "  for word in sent:\n",
    "    enwords.append(word)"
   ]
  },
  {
   "cell_type": "code",
   "execution_count": null,
   "metadata": {
    "colab": {},
    "colab_type": "code",
    "id": "qQp4z3ZM_ni9"
   },
   "outputs": [],
   "source": [
    "from collections import Counter"
   ]
  },
  {
   "cell_type": "code",
   "execution_count": null,
   "metadata": {
    "colab": {
     "base_uri": "https://localhost:8080/",
     "height": 867
    },
    "colab_type": "code",
    "executionInfo": {
     "elapsed": 133546,
     "status": "ok",
     "timestamp": 1582606629742,
     "user": {
      "displayName": "X D",
      "photoUrl": "https://lh3.googleusercontent.com/a-/AAuE7mA_Bmz1Xaq-K9EfpEBRJw2E69bWRnVUQpXWaXar=s64",
      "userId": "03706278554104671499"
     },
     "user_tz": 360
    },
    "id": "z49Qx8q4AaHd",
    "outputId": "363a9aae-6ba2-4cde-b474-88f90bdf2e1d"
   },
   "outputs": [],
   "source": [
    "Counter(chwords).most_common(50)"
   ]
  },
  {
   "cell_type": "code",
   "execution_count": null,
   "metadata": {
    "colab": {
     "base_uri": "https://localhost:8080/",
     "height": 170
    },
    "colab_type": "code",
    "executionInfo": {
     "elapsed": 133604,
     "status": "ok",
     "timestamp": 1582606629806,
     "user": {
      "displayName": "X D",
      "photoUrl": "https://lh3.googleusercontent.com/a-/AAuE7mA_Bmz1Xaq-K9EfpEBRJw2E69bWRnVUQpXWaXar=s64",
      "userId": "03706278554104671499"
     },
     "user_tz": 360
    },
    "id": "JOf8qhrCCPMu",
    "outputId": "1c4795f2-26ad-4a9e-a9bb-e83c27704d5c"
   },
   "outputs": [],
   "source": [
    "Counter(chwords).most_common()[-10:-1]"
   ]
  },
  {
   "cell_type": "code",
   "execution_count": null,
   "metadata": {
    "colab": {
     "base_uri": "https://localhost:8080/",
     "height": 34
    },
    "colab_type": "code",
    "executionInfo": {
     "elapsed": 147236,
     "status": "ok",
     "timestamp": 1582606643475,
     "user": {
      "displayName": "X D",
      "photoUrl": "https://lh3.googleusercontent.com/a-/AAuE7mA_Bmz1Xaq-K9EfpEBRJw2E69bWRnVUQpXWaXar=s64",
      "userId": "03706278554104671499"
     },
     "user_tz": 360
    },
    "id": "bWvXB8eqEJq_",
    "outputId": "b0a90906-e364-4bf6-d474-e41df7cd96d7"
   },
   "outputs": [],
   "source": [
    "len(Counter(chwords).most_common()), len(Counter(enwords).most_common())"
   ]
  },
  {
   "cell_type": "code",
   "execution_count": null,
   "metadata": {
    "colab": {},
    "colab_type": "code",
    "id": "OjhkhPudAjSU"
   },
   "outputs": [],
   "source": [
    "# put new words or placeholder into dictionary\n",
    "def addwords(x2ind, ind2x, w):\n",
    "  if w in x2ind:\n",
    "    return\n",
    "  ind2x[len(x2ind)] = w\n",
    "  x2ind[w] = len(ind2x)-1 # important"
   ]
  },
  {
   "cell_type": "code",
   "execution_count": null,
   "metadata": {
    "colab": {},
    "colab_type": "code",
    "id": "hRaqIZqGBweT"
   },
   "outputs": [],
   "source": [
    "ch2ind = {}\n",
    "ind2ch = {}\n",
    "en2ind = {}\n",
    "ind2en = {}\n",
    "\n",
    "specialchars = ['<end>', '<unk>', '<eos>', '<start>']\n",
    "\n",
    "for char in specialchars:\n",
    "  addwords(ch2ind, ind2ch, char)\n",
    "  addwords(en2ind, ind2en, char)"
   ]
  },
  {
   "cell_type": "code",
   "execution_count": null,
   "metadata": {
    "colab": {
     "base_uri": "https://localhost:8080/",
     "height": 34
    },
    "colab_type": "code",
    "executionInfo": {
     "elapsed": 147218,
     "status": "ok",
     "timestamp": 1582606643477,
     "user": {
      "displayName": "X D",
      "photoUrl": "https://lh3.googleusercontent.com/a-/AAuE7mA_Bmz1Xaq-K9EfpEBRJw2E69bWRnVUQpXWaXar=s64",
      "userId": "03706278554104671499"
     },
     "user_tz": 360
    },
    "id": "ry1gs3O3gmzv",
    "outputId": "201c229b-efa1-42a4-df09-54ee8743635e"
   },
   "outputs": [],
   "source": [
    "ch2ind"
   ]
  },
  {
   "cell_type": "code",
   "execution_count": null,
   "metadata": {
    "colab": {
     "base_uri": "https://localhost:8080/",
     "height": 34
    },
    "colab_type": "code",
    "executionInfo": {
     "elapsed": 147212,
     "status": "ok",
     "timestamp": 1582606643477,
     "user": {
      "displayName": "X D",
      "photoUrl": "https://lh3.googleusercontent.com/a-/AAuE7mA_Bmz1Xaq-K9EfpEBRJw2E69bWRnVUQpXWaXar=s64",
      "userId": "03706278554104671499"
     },
     "user_tz": 360
    },
    "id": "s_NsGFEngpfd",
    "outputId": "42cbdfc9-a211-4136-8405-c9495c8a295c"
   },
   "outputs": [],
   "source": [
    "ind2ch"
   ]
  },
  {
   "cell_type": "code",
   "execution_count": null,
   "metadata": {
    "colab": {},
    "colab_type": "code",
    "id": "m--iScBhCcqq"
   },
   "outputs": [],
   "source": [
    "n = 0\n",
    "m =0\n",
    "for word,_ in Counter(chwords).most_common(150000):\n",
    "  n += 1\n",
    "  addwords(ch2ind, ind2ch, word)\n",
    "\n",
    "for word,_ in Counter(enwords).most_common(150000):\n",
    "  m += 1\n",
    "  addwords(en2ind, ind2en, word)"
   ]
  },
  {
   "cell_type": "code",
   "execution_count": null,
   "metadata": {
    "colab": {
     "base_uri": "https://localhost:8080/",
     "height": 34
    },
    "colab_type": "code",
    "executionInfo": {
     "elapsed": 160325,
     "status": "ok",
     "timestamp": 1582606656603,
     "user": {
      "displayName": "X D",
      "photoUrl": "https://lh3.googleusercontent.com/a-/AAuE7mA_Bmz1Xaq-K9EfpEBRJw2E69bWRnVUQpXWaXar=s64",
      "userId": "03706278554104671499"
     },
     "user_tz": 360
    },
    "id": "I4jkYGuZEuoT",
    "outputId": "933d258c-bf72-4913-b371-5545d5df4073"
   },
   "outputs": [],
   "source": [
    "n,m"
   ]
  },
  {
   "cell_type": "code",
   "execution_count": null,
   "metadata": {
    "colab": {
     "base_uri": "https://localhost:8080/",
     "height": 34
    },
    "colab_type": "code",
    "executionInfo": {
     "elapsed": 160320,
     "status": "ok",
     "timestamp": 1582606656604,
     "user": {
      "displayName": "X D",
      "photoUrl": "https://lh3.googleusercontent.com/a-/AAuE7mA_Bmz1Xaq-K9EfpEBRJw2E69bWRnVUQpXWaXar=s64",
      "userId": "03706278554104671499"
     },
     "user_tz": 360
    },
    "id": "nQK0pkfmbAjM",
    "outputId": "a281611c-6476-4a8b-9dba-0b2fc5c30012"
   },
   "outputs": [],
   "source": [
    "en2ind['<end>'], ind2en[en2ind['<end>']]"
   ]
  },
  {
   "cell_type": "code",
   "execution_count": null,
   "metadata": {
    "colab": {},
    "colab_type": "code",
    "id": "GmpvsFwqEc1x"
   },
   "outputs": [],
   "source": [
    "encoder_x_in = []\n",
    "decoder_y_in = []\n",
    "decoder_y_out = []\n",
    "\n",
    "input_x_len = []\n",
    "input_y_len = []\n",
    "\n",
    "for chsent in chlines:\n",
    "  indsent = [ch2ind.get(i, ch2ind['<unk>']) for i in chsent]\n",
    "  decoder_y_in.append([ch2ind['<start>']] + indsent)\n",
    "  decoder_y_out.append(indsent + [ch2ind['<end>']])\n",
    "  input_y_len.append(len(indsent) + 1)\n",
    "\n",
    "for ensent in enlines:\n",
    "  indsent = [en2ind.get(i, en2ind['<unk>']) for i in ensent]\n",
    "  indsent.append(en2ind['<eos>'])\n",
    "  encoder_x_in.append(indsent)\n",
    "  input_x_len.append(len(indsent))# !!!"
   ]
  },
  {
   "cell_type": "code",
   "execution_count": null,
   "metadata": {
    "colab": {
     "base_uri": "https://localhost:8080/",
     "height": 34
    },
    "colab_type": "code",
    "executionInfo": {
     "elapsed": 228182,
     "status": "ok",
     "timestamp": 1582606724480,
     "user": {
      "displayName": "X D",
      "photoUrl": "https://lh3.googleusercontent.com/a-/AAuE7mA_Bmz1Xaq-K9EfpEBRJw2E69bWRnVUQpXWaXar=s64",
      "userId": "03706278554104671499"
     },
     "user_tz": 360
    },
    "id": "QlofZxn3euEV",
    "outputId": "b37602c9-6dc4-4eb6-a9df-d4301d38a60a"
   },
   "outputs": [],
   "source": [
    "[ind2en[i] for i in encoder_x_in[1020]]"
   ]
  },
  {
   "cell_type": "code",
   "execution_count": null,
   "metadata": {
    "colab": {
     "base_uri": "https://localhost:8080/",
     "height": 34
    },
    "colab_type": "code",
    "executionInfo": {
     "elapsed": 228175,
     "status": "ok",
     "timestamp": 1582606724480,
     "user": {
      "displayName": "X D",
      "photoUrl": "https://lh3.googleusercontent.com/a-/AAuE7mA_Bmz1Xaq-K9EfpEBRJw2E69bWRnVUQpXWaXar=s64",
      "userId": "03706278554104671499"
     },
     "user_tz": 360
    },
    "id": "2KpuG0hChQeZ",
    "outputId": "525a2e33-61bf-42ca-cdd4-805336cea55b"
   },
   "outputs": [],
   "source": [
    "[ind2ch[i] for i in decoder_y_in[1020]]"
   ]
  },
  {
   "cell_type": "code",
   "execution_count": null,
   "metadata": {
    "colab": {
     "base_uri": "https://localhost:8080/",
     "height": 34
    },
    "colab_type": "code",
    "executionInfo": {
     "elapsed": 228170,
     "status": "ok",
     "timestamp": 1582606724481,
     "user": {
      "displayName": "X D",
      "photoUrl": "https://lh3.googleusercontent.com/a-/AAuE7mA_Bmz1Xaq-K9EfpEBRJw2E69bWRnVUQpXWaXar=s64",
      "userId": "03706278554104671499"
     },
     "user_tz": 360
    },
    "id": "Q86oqVp6hQtD",
    "outputId": "f05ac0fc-1317-4a77-d4a6-3a7232b98d2c"
   },
   "outputs": [],
   "source": [
    "[ind2ch[i] for i in decoder_y_out[1020]]"
   ]
  },
  {
   "cell_type": "code",
   "execution_count": null,
   "metadata": {
    "colab": {
     "base_uri": "https://localhost:8080/",
     "height": 34
    },
    "colab_type": "code",
    "executionInfo": {
     "elapsed": 228163,
     "status": "ok",
     "timestamp": 1582606724481,
     "user": {
      "displayName": "X D",
      "photoUrl": "https://lh3.googleusercontent.com/a-/AAuE7mA_Bmz1Xaq-K9EfpEBRJw2E69bWRnVUQpXWaXar=s64",
      "userId": "03706278554104671499"
     },
     "user_tz": 360
    },
    "id": "WFJ3JahHhQ0g",
    "outputId": "4d61f754-c05d-47e8-afb5-af2af5687dd2"
   },
   "outputs": [],
   "source": [
    "input_x_len[1020], input_y_len[1020]"
   ]
  },
  {
   "cell_type": "code",
   "execution_count": null,
   "metadata": {
    "colab": {
     "base_uri": "https://localhost:8080/",
     "height": 34
    },
    "colab_type": "code",
    "executionInfo": {
     "elapsed": 228157,
     "status": "ok",
     "timestamp": 1582606724482,
     "user": {
      "displayName": "X D",
      "photoUrl": "https://lh3.googleusercontent.com/a-/AAuE7mA_Bmz1Xaq-K9EfpEBRJw2E69bWRnVUQpXWaXar=s64",
      "userId": "03706278554104671499"
     },
     "user_tz": 360
    },
    "id": "7Q1AsuMfh4Em",
    "outputId": "6040a6e3-f911-4a8a-fcad-5e9dc22052e9"
   },
   "outputs": [],
   "source": [
    "len(encoder_x_in),\\\n",
    "len(decoder_y_in),\\\n",
    "len(decoder_y_out),\\\n",
    "len(input_x_len),\\\n",
    "len(input_y_len)"
   ]
  },
  {
   "cell_type": "markdown",
   "metadata": {
    "colab_type": "text",
    "id": "VglRrpzFNLle"
   },
   "source": [
    "### Modeling"
   ]
  },
  {
   "cell_type": "code",
   "execution_count": null,
   "metadata": {
    "colab": {},
    "colab_type": "code",
    "id": "dd1gqtODNJGZ"
   },
   "outputs": [],
   "source": [
    "from tensorflow.python.layers import core as layers_core"
   ]
  },
  {
   "cell_type": "code",
   "execution_count": null,
   "metadata": {
    "colab": {
     "base_uri": "https://localhost:8080/",
     "height": 68
    },
    "colab_type": "code",
    "executionInfo": {
     "elapsed": 228144,
     "status": "ok",
     "timestamp": 1582606724483,
     "user": {
      "displayName": "X D",
      "photoUrl": "https://lh3.googleusercontent.com/a-/AAuE7mA_Bmz1Xaq-K9EfpEBRJw2E69bWRnVUQpXWaXar=s64",
      "userId": "03706278554104671499"
     },
     "user_tz": 360
    },
    "id": "baouFPRDNOK4",
    "outputId": "e62df644-b788-460c-a494-1b8e7c1fdea0"
   },
   "outputs": [],
   "source": [
    "import tflearn\n",
    "tf.reset_default_graph()\n",
    "config = tf.ConfigProto(log_device_placement=True,allow_soft_placement = True)\n",
    "config.gpu_options.allow_growth = True\n",
    "#config.gpu_options.per_process_gpu_memory_fraction = 0.4\n",
    "session = tf.Session(config=config)"
   ]
  },
  {
   "cell_type": "code",
   "execution_count": null,
   "metadata": {
    "colab": {},
    "colab_type": "code",
    "id": "7-R6YditiMkU"
   },
   "outputs": [],
   "source": [
    "embedding_size = 512\n",
    "num_units = 512\n",
    "batch_size = 128\n",
    "layer_number = 2\n",
    "max_grad = 1.0\n",
    "dropout = 0.2\n",
    "src_vocab_size = len(en2ind)\n",
    "target_vocab_size = len(ch2ind)\n",
    "seq_max_len = sentlength + 1\n",
    "maximum_iterations = 10"
   ]
  },
  {
   "cell_type": "code",
   "execution_count": null,
   "metadata": {
    "colab": {
     "base_uri": "https://localhost:8080/",
     "height": 68
    },
    "colab_type": "code",
    "executionInfo": {
     "elapsed": 1320,
     "status": "ok",
     "timestamp": 1582608068884,
     "user": {
      "displayName": "X D",
      "photoUrl": "https://lh3.googleusercontent.com/a-/AAuE7mA_Bmz1Xaq-K9EfpEBRJw2E69bWRnVUQpXWaXar=s64",
      "userId": "03706278554104671499"
     },
     "user_tz": 360
    },
    "id": "6qgxIHhYiegw",
    "outputId": "c6c65364-9537-4547-89fa-6875d442a037"
   },
   "outputs": [],
   "source": [
    "tf.reset_default_graph()\n",
    "config = tf.ConfigProto(log_device_placement=True,allow_soft_placement = True)\n",
    "config.gpu_options.allow_growth = True\n",
    "#config.gpu_options.per_process_gpu_memory_fraction = 0.4\n",
    "session = tf.Session(config=config)\n",
    "\n",
    "with tf.device('/device:GPU:0'):\n",
    "    initializer = tf.random_uniform_initializer(\n",
    "        -0.08, 0.08)\n",
    "    tf.get_variable_scope().set_initializer(initializer)\n",
    "    \n",
    "    x = tf.placeholder(\"int32\", [None, None])\n",
    "    y = tf.placeholder(\"int32\", [None, None])\n",
    "    y_in = tf.placeholder(\"int32\",[None,None])\n",
    "    \n",
    "    x_len = tf.placeholder(\"int32\",[None])\n",
    "    y_len = tf.placeholder(\"int32\",[None])\n",
    "    learning_rate = tf.placeholder(tf.float32, shape=[])\n",
    "    \n",
    "    # embedding\n",
    "    embedding_encoder = tf.get_variable(\n",
    "        \"embedding_encoder\", [src_vocab_size, embedding_size],dtype=tf.float32)\n",
    "    embedding_decoder = tf.get_variable(\n",
    "        \"embedding_decoder\", [target_vocab_size, embedding_size],dtype=tf.float32)\n",
    "    \n",
    "    encoder_emb_inp = tf.nn.embedding_lookup(\n",
    "        embedding_encoder, x)\n",
    "    decoder_emb_inp = tf.nn.embedding_lookup(\n",
    "        embedding_decoder, y_in)\n",
    "    \n",
    "    # encoder\n",
    "    num_bi_layers = int(layer_number / 2)\n",
    "    \n",
    "    # Build RNN cell\n",
    "    encoder_cell = tf.nn.rnn_cell.BasicLSTMCell(num_units)\n",
    "\n",
    "    # Run Dynamic RNN\n",
    "    #   encoder_outputs: [max_time, batch_size, num_units]\n",
    "    #   encoder_state: [batch_size, num_units]\n",
    "    encoder_outputs, encoder_state = tf.nn.dynamic_rnn(\n",
    "        encoder_cell, encoder_emb_inp,\n",
    "        sequence_length=x_len, time_major=False, dtype=tf.float32)\n",
    "        \n",
    "    \n",
    "    \n",
    "    batch_size_in = tf.shape(x)[0]\n",
    "    projection_layer = layers_core.Dense(\n",
    "        len(ch2ind), use_bias=False)\n",
    "    # Dynamic decoding\n",
    "    with tf.variable_scope(\"decode_layer\"):\n",
    "        # Build RNN cell\n",
    "        decoder_cell = tf.nn.rnn_cell.BasicLSTMCell(num_units)\n",
    "        # Helper\n",
    "        helper = tf.contrib.seq2seq.TrainingHelper(\n",
    "            decoder_emb_inp, y_len, time_major=False)\n",
    "        # Decoder\n",
    "        decoder = tf.contrib.seq2seq.BasicDecoder(\n",
    "            decoder_cell, helper, encoder_state,\n",
    "            output_layer=projection_layer)\n",
    "        # Dynamic decoding\n",
    "        outputs, _ , __ = tf.contrib.seq2seq.dynamic_decode(decoder)\n",
    "        logits = outputs.rnn_output\n",
    "        target_weights = tf.sequence_mask(\n",
    "            y_len, seq_max_len, dtype=logits.dtype)\n",
    "    \n",
    "    # predicting\n",
    "    # Helper\n",
    "    with tf.variable_scope(\"decode_layer\"):\n",
    "        # Helper\n",
    "        helper = tf.contrib.seq2seq.GreedyEmbeddingHelper(\n",
    "            embedding_decoder,\n",
    "            tf.fill([batch_size_in], ch2ind['<start>']), ch2ind['<end>'])\n",
    "\n",
    "        # Decoder\n",
    "        decoder = tf.contrib.seq2seq.BasicDecoder(\n",
    "            decoder_cell, helper, encoder_state,\n",
    "            output_layer=projection_layer)\n",
    "        # Dynamic decoding\n",
    "        outputs, _ , __= tf.contrib.seq2seq.dynamic_decode(\n",
    "            decoder, maximum_iterations=maximum_iterations)\n",
    "        translations = outputs.sample_id\n",
    "        \n",
    "\n",
    "    # calculate loss\n",
    "    crossent = tf.nn.sparse_softmax_cross_entropy_with_logits(\n",
    "        labels=y, logits=logits)\n",
    "    train_loss = (tf.reduce_sum(crossent * target_weights) /\n",
    "        tf.cast(batch_size_in,tf.float32))\n",
    "    \n",
    "    optimizer_ori = tf.train.GradientDescentOptimizer(learning_rate=learning_rate)\n",
    "    trainable_params = tf.trainable_variables()\n",
    "    gradients = tf.gradients(train_loss, trainable_params)\n",
    "    clip_gradients, _ = tf.clip_by_global_norm(gradients, max_grad)\n",
    "    global_step = tf.Variable(0, trainable=False, name='global_step')\n",
    "    optimizer = optimizer_ori.apply_gradients(\n",
    "            zip(clip_gradients, trainable_params), global_step=global_step)\n",
    "    #optimizer = tf.train.GradientDescentOptimizer(learning_rate=learning_rate).minimize(train_loss)\n",
    "    #trainop = tflearn.TrainOp(loss=train_loss, optimizer=optimizer,\n",
    "    #                          metric=train_loss, batch_size=64)\n",
    "\n",
    " "
   ]
  },
  {
   "cell_type": "code",
   "execution_count": null,
   "metadata": {
    "colab": {},
    "colab_type": "code",
    "id": "ljJ-wJbBjPV1"
   },
   "outputs": [],
   "source": [
    "session.run(tf.global_variables_initializer())"
   ]
  },
  {
   "cell_type": "code",
   "execution_count": null,
   "metadata": {
    "colab": {
     "base_uri": "https://localhost:8080/",
     "height": 51
    },
    "colab_type": "code",
    "executionInfo": {
     "elapsed": 172,
     "status": "ok",
     "timestamp": 1582608072396,
     "user": {
      "displayName": "X D",
      "photoUrl": "https://lh3.googleusercontent.com/a-/AAuE7mA_Bmz1Xaq-K9EfpEBRJw2E69bWRnVUQpXWaXar=s64",
      "userId": "03706278554104671499"
     },
     "user_tz": 360
    },
    "id": "91RxKzgrrcPD",
    "outputId": "de6f2b35-35b9-477e-cf4e-30db1d7ba5be"
   },
   "outputs": [],
   "source": [
    "encoder_x_in[:1]"
   ]
  },
  {
   "cell_type": "code",
   "execution_count": null,
   "metadata": {
    "colab": {
     "base_uri": "https://localhost:8080/",
     "height": 34
    },
    "colab_type": "code",
    "executionInfo": {
     "elapsed": 184,
     "status": "ok",
     "timestamp": 1582608073355,
     "user": {
      "displayName": "X D",
      "photoUrl": "https://lh3.googleusercontent.com/a-/AAuE7mA_Bmz1Xaq-K9EfpEBRJw2E69bWRnVUQpXWaXar=s64",
      "userId": "03706278554104671499"
     },
     "user_tz": 360
    },
    "id": "0zSujvDPnxiG",
    "outputId": "e665ea98-8ddf-4863-a826-873924f53c46"
   },
   "outputs": [],
   "source": [
    "session.run(encoder_emb_inp,feed_dict={\n",
    "    x:np.asarray(encoder_x_in[:1])\n",
    "}).shape"
   ]
  },
  {
   "cell_type": "code",
   "execution_count": null,
   "metadata": {
    "colab": {},
    "colab_type": "code",
    "id": "Hc78sW5Qnzes"
   },
   "outputs": [],
   "source": [
    "encoder_x_in = tf.keras.preprocessing.sequence.pad_sequences(encoder_x_in,padding='post',value=en2ind['<eos>'])\n",
    "decoder_y_in = tf.keras.preprocessing.sequence.pad_sequences(decoder_y_in,padding='post',value=en2ind['<end>'])\n",
    "decoder_y_out = tf.keras.preprocessing.sequence.pad_sequences(decoder_y_out,padding='post',value=en2ind['<end>'])\n",
    "\n",
    "input_x_len = np.asarray(input_x_len)\n",
    "input_y_len = np.asarray(input_y_len)"
   ]
  },
  {
   "cell_type": "code",
   "execution_count": null,
   "metadata": {
    "colab": {
     "base_uri": "https://localhost:8080/",
     "height": 34
    },
    "colab_type": "code",
    "executionInfo": {
     "elapsed": 166,
     "status": "ok",
     "timestamp": 1582608154704,
     "user": {
      "displayName": "X D",
      "photoUrl": "https://lh3.googleusercontent.com/a-/AAuE7mA_Bmz1Xaq-K9EfpEBRJw2E69bWRnVUQpXWaXar=s64",
      "userId": "03706278554104671499"
     },
     "user_tz": 360
    },
    "id": "t4iFdsHZn1Yp",
    "outputId": "d1f33107-6680-4be6-b632-ad82c0b92c56"
   },
   "outputs": [],
   "source": [
    "encoder_x_in.shape,decoder_y_in.shape,decoder_y_out.shape,input_x_len.shape,input_y_len.shape"
   ]
  },
  {
   "cell_type": "code",
   "execution_count": null,
   "metadata": {
    "colab": {
     "base_uri": "https://localhost:8080/",
     "height": 1000
    },
    "colab_type": "code",
    "executionInfo": {
     "elapsed": 4572571,
     "status": "ok",
     "timestamp": 1582612729167,
     "user": {
      "displayName": "X D",
      "photoUrl": "https://lh3.googleusercontent.com/a-/AAuE7mA_Bmz1Xaq-K9EfpEBRJw2E69bWRnVUQpXWaXar=s64",
      "userId": "03706278554104671499"
     },
     "user_tz": 360
    },
    "id": "kVnr3QZYn35V",
    "outputId": "0ee0960e-54af-4864-da55-b1bf50943d7c"
   },
   "outputs": [],
   "source": [
    "print(\"start modeling……\")\n",
    "losses = []\n",
    "beginning_lr = 4\n",
    "for one_epoch in range(0,20):\n",
    "    index = np.asarray(list(range(len(encoder_x_in))))\n",
    "    np.random.shuffle(index)\n",
    "    for i in range(0, 20000, batch_size):\n",
    "        batchindex = index[i:i + batch_size]\n",
    "        \n",
    "        batch_lr = beginning_lr if one_epoch < 20 else beginning_lr * 0.5 ** (one_epoch - 20)\n",
    "        if len(batchindex) < batch_size:\n",
    "            break\n",
    "        _,batch_loss = session.run([optimizer,train_loss],feed_dict={\n",
    "            x:encoder_x_in[batchindex],\n",
    "            y:decoder_y_out[batchindex],\n",
    "            y_in:decoder_y_in[batchindex],\n",
    "\n",
    "            x_len:input_x_len[batchindex],\n",
    "            y_len:input_y_len[batchindex],\n",
    "            learning_rate:batch_lr,\n",
    "        })\n",
    "\n",
    "        print(batch_loss, batch_lr, i)\n",
    "        losses.append(batch_loss)"
   ]
  },
  {
   "cell_type": "code",
   "execution_count": null,
   "metadata": {
    "colab": {
     "base_uri": "https://localhost:8080/",
     "height": 282
    },
    "colab_type": "code",
    "executionInfo": {
     "elapsed": 459,
     "status": "ok",
     "timestamp": 1582613211709,
     "user": {
      "displayName": "X D",
      "photoUrl": "https://lh3.googleusercontent.com/a-/AAuE7mA_Bmz1Xaq-K9EfpEBRJw2E69bWRnVUQpXWaXar=s64",
      "userId": "03706278554104671499"
     },
     "user_tz": 360
    },
    "id": "dV7mAgZjn6XE",
    "outputId": "97ebcfdf-2d05-4aaa-ffea-ebeaefb7e8b0"
   },
   "outputs": [],
   "source": [
    "pd.DataFrame(losses).plot()"
   ]
  },
  {
   "cell_type": "code",
   "execution_count": null,
   "metadata": {
    "colab": {},
    "colab_type": "code",
    "id": "GgNcvnamoZqL"
   },
   "outputs": [],
   "source": [
    "def translate(sent):\n",
    "    senttoken = [en2ind[i.lower()] for i in sent.split()]\n",
    "    senttoken.append(en2ind['<eos>'])\n",
    "    inputx = np.asarray([senttoken])\n",
    "    inputx_len = np.asarray([len(senttoken)])\n",
    "    print(inputx,inputx_len)\n",
    "    batch_translations = session.run(translations,feed_dict={\n",
    "            x:inputx,\n",
    "            x_len:inputx_len,\n",
    "        })[0]\n",
    "    return ''.join([ind2ch[i] for i in batch_translations])"
   ]
  },
  {
   "cell_type": "code",
   "execution_count": null,
   "metadata": {
    "colab": {},
    "colab_type": "code",
    "id": "AtYTOhAJobxO"
   },
   "outputs": [],
   "source": [
    "source_sentence = \"I love english .\""
   ]
  },
  {
   "cell_type": "code",
   "execution_count": null,
   "metadata": {
    "colab": {
     "base_uri": "https://localhost:8080/",
     "height": 51
    },
    "colab_type": "code",
    "executionInfo": {
     "elapsed": 340,
     "status": "ok",
     "timestamp": 1582613239122,
     "user": {
      "displayName": "X D",
      "photoUrl": "https://lh3.googleusercontent.com/a-/AAuE7mA_Bmz1Xaq-K9EfpEBRJw2E69bWRnVUQpXWaXar=s64",
      "userId": "03706278554104671499"
     },
     "user_tz": 360
    },
    "id": "cLwUCSS4odIB",
    "outputId": "ac12906d-cf6c-4182-d971-db591eb5c61b"
   },
   "outputs": [],
   "source": [
    "translate(source_sentence)"
   ]
  },
  {
   "cell_type": "code",
   "execution_count": null,
   "metadata": {
    "colab": {},
    "colab_type": "code",
    "id": "LxvZlw2CpN3S"
   },
   "outputs": [],
   "source": []
  }
 ],
 "metadata": {
  "accelerator": "TPU",
  "colab": {
   "authorship_tag": "ABX9TyOUGxb9VJdhz2hSVtjUwFTf",
   "machine_shape": "hm",
   "mount_file_id": "1nPMm_x7VjP87dsX21SSH9KutTVm6mySv",
   "name": "Untitled0.ipynb",
   "provenance": [],
   "toc_visible": true
  },
  "kernelspec": {
   "display_name": "Python 3",
   "language": "python",
   "name": "python3"
  },
  "language_info": {
   "codemirror_mode": {
    "name": "ipython",
    "version": 3
   },
   "file_extension": ".py",
   "mimetype": "text/x-python",
   "name": "python",
   "nbconvert_exporter": "python",
   "pygments_lexer": "ipython3",
   "version": "3.7.4"
  }
 },
 "nbformat": 4,
 "nbformat_minor": 1
}
